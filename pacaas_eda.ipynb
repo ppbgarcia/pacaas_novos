{
 "cells": [
  {
   "cell_type": "code",
   "execution_count": 55,
   "metadata": {},
   "outputs": [
    {
     "data": {
      "text/html": [
       "\n",
       "            <style>\n",
       "                .geemap-dark {\n",
       "                    --jp-widgets-color: white;\n",
       "                    --jp-widgets-label-color: white;\n",
       "                    --jp-ui-font-color1: white;\n",
       "                    --jp-layout-color2: #454545;\n",
       "                    background-color: #383838;\n",
       "                }\n",
       "\n",
       "                .geemap-dark .jupyter-button {\n",
       "                    --jp-layout-color3: #383838;\n",
       "                }\n",
       "\n",
       "                .geemap-colab {\n",
       "                    background-color: var(--colab-primary-surface-color, white);\n",
       "                }\n",
       "\n",
       "                .geemap-colab .jupyter-button {\n",
       "                    --jp-layout-color3: var(--colab-primary-surface-color, white);\n",
       "                }\n",
       "            </style>\n",
       "            "
      ],
      "text/plain": [
       "<IPython.core.display.HTML object>"
      ]
     },
     "metadata": {},
     "output_type": "display_data"
    }
   ],
   "source": [
    "import geopandas as gpd\n",
    "import pandas as pd\n",
    "import ee\n",
    "import geemap\n",
    "ee.Authenticate()\n",
    "ee.Initialize(project='pacaas-novas')"
   ]
  },
  {
   "cell_type": "code",
   "execution_count": 56,
   "metadata": {},
   "outputs": [
    {
     "data": {
      "text/html": [
       "\n",
       "            <style>\n",
       "                .geemap-dark {\n",
       "                    --jp-widgets-color: white;\n",
       "                    --jp-widgets-label-color: white;\n",
       "                    --jp-ui-font-color1: white;\n",
       "                    --jp-layout-color2: #454545;\n",
       "                    background-color: #383838;\n",
       "                }\n",
       "\n",
       "                .geemap-dark .jupyter-button {\n",
       "                    --jp-layout-color3: #383838;\n",
       "                }\n",
       "\n",
       "                .geemap-colab {\n",
       "                    background-color: var(--colab-primary-surface-color, white);\n",
       "                }\n",
       "\n",
       "                .geemap-colab .jupyter-button {\n",
       "                    --jp-layout-color3: var(--colab-primary-surface-color, white);\n",
       "                }\n",
       "            </style>\n",
       "            "
      ],
      "text/plain": [
       "<IPython.core.display.HTML object>"
      ]
     },
     "metadata": {},
     "output_type": "display_data"
    }
   ],
   "source": [
    "pacaas_area = gpd.read_file('C:/Users/ppgar/Downloads/QGIS/Pacaas_novos/pacaas_novas.geojson')"
   ]
  },
  {
   "cell_type": "code",
   "execution_count": 57,
   "metadata": {},
   "outputs": [
    {
     "data": {
      "text/html": [
       "\n",
       "            <style>\n",
       "                .geemap-dark {\n",
       "                    --jp-widgets-color: white;\n",
       "                    --jp-widgets-label-color: white;\n",
       "                    --jp-ui-font-color1: white;\n",
       "                    --jp-layout-color2: #454545;\n",
       "                    background-color: #383838;\n",
       "                }\n",
       "\n",
       "                .geemap-dark .jupyter-button {\n",
       "                    --jp-layout-color3: #383838;\n",
       "                }\n",
       "\n",
       "                .geemap-colab {\n",
       "                    background-color: var(--colab-primary-surface-color, white);\n",
       "                }\n",
       "\n",
       "                .geemap-colab .jupyter-button {\n",
       "                    --jp-layout-color3: var(--colab-primary-surface-color, white);\n",
       "                }\n",
       "            </style>\n",
       "            "
      ],
      "text/plain": [
       "<IPython.core.display.HTML object>"
      ]
     },
     "metadata": {},
     "output_type": "display_data"
    }
   ],
   "source": [
    "pacaas_area = pacaas_area.geometry.iloc[0].__geo_interface__"
   ]
  },
  {
   "cell_type": "code",
   "execution_count": 58,
   "metadata": {},
   "outputs": [
    {
     "data": {
      "text/html": [
       "\n",
       "            <style>\n",
       "                .geemap-dark {\n",
       "                    --jp-widgets-color: white;\n",
       "                    --jp-widgets-label-color: white;\n",
       "                    --jp-ui-font-color1: white;\n",
       "                    --jp-layout-color2: #454545;\n",
       "                    background-color: #383838;\n",
       "                }\n",
       "\n",
       "                .geemap-dark .jupyter-button {\n",
       "                    --jp-layout-color3: #383838;\n",
       "                }\n",
       "\n",
       "                .geemap-colab {\n",
       "                    background-color: var(--colab-primary-surface-color, white);\n",
       "                }\n",
       "\n",
       "                .geemap-colab .jupyter-button {\n",
       "                    --jp-layout-color3: var(--colab-primary-surface-color, white);\n",
       "                }\n",
       "            </style>\n",
       "            "
      ],
      "text/plain": [
       "<IPython.core.display.HTML object>"
      ]
     },
     "metadata": {},
     "output_type": "display_data"
    }
   ],
   "source": [
    "pacaas_area = ee.Geometry(pacaas_area)\n",
    "buffer = pacaas_area.buffer(5000)\n",
    "buffer_diff = buffer.difference(pacaas_area)"
   ]
  },
  {
   "cell_type": "code",
   "execution_count": 59,
   "metadata": {},
   "outputs": [
    {
     "data": {
      "text/html": [
       "\n",
       "            <style>\n",
       "                .geemap-dark {\n",
       "                    --jp-widgets-color: white;\n",
       "                    --jp-widgets-label-color: white;\n",
       "                    --jp-ui-font-color1: white;\n",
       "                    --jp-layout-color2: #454545;\n",
       "                    background-color: #383838;\n",
       "                }\n",
       "\n",
       "                .geemap-dark .jupyter-button {\n",
       "                    --jp-layout-color3: #383838;\n",
       "                }\n",
       "\n",
       "                .geemap-colab {\n",
       "                    background-color: var(--colab-primary-surface-color, white);\n",
       "                }\n",
       "\n",
       "                .geemap-colab .jupyter-button {\n",
       "                    --jp-layout-color3: var(--colab-primary-surface-color, white);\n",
       "                }\n",
       "            </style>\n",
       "            "
      ],
      "text/plain": [
       "<IPython.core.display.HTML object>"
      ]
     },
     "metadata": {},
     "output_type": "display_data"
    }
   ],
   "source": [
    "def calc_ndvi(image):\n",
    "    nir = image.select('B8')\n",
    "    red = image.select('B4')\n",
    "    ndvi = nir.subtract(red).divide(nir.add(red)).rename('NDVI')\n",
    "    return image.addBands(ndvi)"
   ]
  },
  {
   "cell_type": "code",
   "execution_count": 60,
   "metadata": {},
   "outputs": [
    {
     "data": {
      "text/html": [
       "\n",
       "            <style>\n",
       "                .geemap-dark {\n",
       "                    --jp-widgets-color: white;\n",
       "                    --jp-widgets-label-color: white;\n",
       "                    --jp-ui-font-color1: white;\n",
       "                    --jp-layout-color2: #454545;\n",
       "                    background-color: #383838;\n",
       "                }\n",
       "\n",
       "                .geemap-dark .jupyter-button {\n",
       "                    --jp-layout-color3: #383838;\n",
       "                }\n",
       "\n",
       "                .geemap-colab {\n",
       "                    background-color: var(--colab-primary-surface-color, white);\n",
       "                }\n",
       "\n",
       "                .geemap-colab .jupyter-button {\n",
       "                    --jp-layout-color3: var(--colab-primary-surface-color, white);\n",
       "                }\n",
       "            </style>\n",
       "            "
      ],
      "text/plain": [
       "<IPython.core.display.HTML object>"
      ]
     },
     "metadata": {},
     "output_type": "display_data"
    }
   ],
   "source": [
    "def mask_clouds(image):\n",
    "    cloud_mask = image.select('QA60').eq(0)\n",
    "    return image.updateMask(cloud_mask)\n",
    "\n",
    "satelite_2016 = ee.ImageCollection('COPERNICUS/S2_HARMONIZED').filterDate('2016-05-01', '2016-09-30').map(mask_clouds).median().clip(buffer).select(['B11', 'B8', 'B4'])\n",
    "satelite_2016_buffer = ee.ImageCollection('COPERNICUS/S2_HARMONIZED').filterDate('2016-05-01', '2016-09-30').map(mask_clouds).median().clip(buffer_diff).select(['B11', 'B8', 'B4'])"
   ]
  },
  {
   "cell_type": "markdown",
   "metadata": {},
   "source": [
    "**Calculate the NDVI map for each year**"
   ]
  },
  {
   "cell_type": "code",
   "execution_count": 61,
   "metadata": {},
   "outputs": [
    {
     "data": {
      "text/html": [
       "\n",
       "            <style>\n",
       "                .geemap-dark {\n",
       "                    --jp-widgets-color: white;\n",
       "                    --jp-widgets-label-color: white;\n",
       "                    --jp-ui-font-color1: white;\n",
       "                    --jp-layout-color2: #454545;\n",
       "                    background-color: #383838;\n",
       "                }\n",
       "\n",
       "                .geemap-dark .jupyter-button {\n",
       "                    --jp-layout-color3: #383838;\n",
       "                }\n",
       "\n",
       "                .geemap-colab {\n",
       "                    background-color: var(--colab-primary-surface-color, white);\n",
       "                }\n",
       "\n",
       "                .geemap-colab .jupyter-button {\n",
       "                    --jp-layout-color3: var(--colab-primary-surface-color, white);\n",
       "                }\n",
       "            </style>\n",
       "            "
      ],
      "text/plain": [
       "<IPython.core.display.HTML object>"
      ]
     },
     "metadata": {},
     "output_type": "display_data"
    }
   ],
   "source": [
    "pacaas_hist = pd.DataFrame()\n",
    "for year in range(2016,2025):\n",
    "    ndvi_mean = calc_ndvi(ee.ImageCollection('COPERNICUS/S2_HARMONIZED').filterDate(f'{year}-06-01', f'{year}-09-30').map(mask_clouds).median().clip(pacaas_area)).select(['NDVI']).reduceRegion('mean')\n",
    "    ndvi_buffer = calc_ndvi(ee.ImageCollection('COPERNICUS/S2_HARMONIZED').filterDate(f'{year}-06-01', f'{year}-09-30').map(mask_clouds).median().clip(buffer_diff)).select(['NDVI']).reduceRegion('mean')\n",
    "    aux = pd.DataFrame({'Year': [year],\n",
    "                        'Area_NDVI': [ndvi_mean.get('NDVI').getInfo()],\n",
    "                        'Buffer_NDVI': [ndvi_buffer.get('NDVI').getInfo()],\n",
    "                        'Area of Interest': [calc_ndvi(ee.ImageCollection('COPERNICUS/S2_HARMONIZED').filterDate(f'{year}-06-01', f'{year}-09-30').map(mask_clouds).median().clip(pacaas_area)).select('NDVI')],\n",
    "                        'Buffer only': [calc_ndvi(ee.ImageCollection('COPERNICUS/S2_HARMONIZED').filterDate(f'{year}-06-01', f'{year}-09-30').map(mask_clouds).median().clip(buffer_diff)).select('NDVI')],\n",
    "                        'Total Area': [calc_ndvi(ee.ImageCollection('COPERNICUS/S2_HARMONIZED').filterDate(f'{year}-06-01', f'{year}-09-30').map(mask_clouds).median().clip(buffer)).select('NDVI')]\n",
    "                        })\n",
    "    pacaas_hist = pd.concat([pacaas_hist, aux])"
   ]
  },
  {
   "cell_type": "code",
   "execution_count": 62,
   "metadata": {},
   "outputs": [
    {
     "data": {
      "text/html": [
       "\n",
       "            <style>\n",
       "                .geemap-dark {\n",
       "                    --jp-widgets-color: white;\n",
       "                    --jp-widgets-label-color: white;\n",
       "                    --jp-ui-font-color1: white;\n",
       "                    --jp-layout-color2: #454545;\n",
       "                    background-color: #383838;\n",
       "                }\n",
       "\n",
       "                .geemap-dark .jupyter-button {\n",
       "                    --jp-layout-color3: #383838;\n",
       "                }\n",
       "\n",
       "                .geemap-colab {\n",
       "                    background-color: var(--colab-primary-surface-color, white);\n",
       "                }\n",
       "\n",
       "                .geemap-colab .jupyter-button {\n",
       "                    --jp-layout-color3: var(--colab-primary-surface-color, white);\n",
       "                }\n",
       "            </style>\n",
       "            "
      ],
      "text/plain": [
       "<IPython.core.display.HTML object>"
      ]
     },
     "metadata": {},
     "output_type": "display_data"
    },
    {
     "data": {
      "text/html": [
       "<div>\n",
       "<style scoped>\n",
       "    .dataframe tbody tr th:only-of-type {\n",
       "        vertical-align: middle;\n",
       "    }\n",
       "\n",
       "    .dataframe tbody tr th {\n",
       "        vertical-align: top;\n",
       "    }\n",
       "\n",
       "    .dataframe thead th {\n",
       "        text-align: right;\n",
       "    }\n",
       "</style>\n",
       "<table border=\"1\" class=\"dataframe\">\n",
       "  <thead>\n",
       "    <tr style=\"text-align: right;\">\n",
       "      <th></th>\n",
       "      <th>Area_NDVI</th>\n",
       "      <th>Buffer_NDVI</th>\n",
       "      <th>Area of Interest</th>\n",
       "      <th>Buffer only</th>\n",
       "      <th>Total Area</th>\n",
       "    </tr>\n",
       "    <tr>\n",
       "      <th>Year</th>\n",
       "      <th></th>\n",
       "      <th></th>\n",
       "      <th></th>\n",
       "      <th></th>\n",
       "      <th></th>\n",
       "    </tr>\n",
       "  </thead>\n",
       "  <tbody>\n",
       "    <tr>\n",
       "      <th>2016</th>\n",
       "      <td>0.708851</td>\n",
       "      <td>0.709488</td>\n",
       "      <td>ee.Image({\\n  \"functionInvocationValue\": {\\n  ...</td>\n",
       "      <td>ee.Image({\\n  \"functionInvocationValue\": {\\n  ...</td>\n",
       "      <td>ee.Image({\\n  \"functionInvocationValue\": {\\n  ...</td>\n",
       "    </tr>\n",
       "    <tr>\n",
       "      <th>2017</th>\n",
       "      <td>0.700180</td>\n",
       "      <td>0.699647</td>\n",
       "      <td>ee.Image({\\n  \"functionInvocationValue\": {\\n  ...</td>\n",
       "      <td>ee.Image({\\n  \"functionInvocationValue\": {\\n  ...</td>\n",
       "      <td>ee.Image({\\n  \"functionInvocationValue\": {\\n  ...</td>\n",
       "    </tr>\n",
       "    <tr>\n",
       "      <th>2018</th>\n",
       "      <td>0.720925</td>\n",
       "      <td>0.721418</td>\n",
       "      <td>ee.Image({\\n  \"functionInvocationValue\": {\\n  ...</td>\n",
       "      <td>ee.Image({\\n  \"functionInvocationValue\": {\\n  ...</td>\n",
       "      <td>ee.Image({\\n  \"functionInvocationValue\": {\\n  ...</td>\n",
       "    </tr>\n",
       "    <tr>\n",
       "      <th>2019</th>\n",
       "      <td>0.635198</td>\n",
       "      <td>0.635114</td>\n",
       "      <td>ee.Image({\\n  \"functionInvocationValue\": {\\n  ...</td>\n",
       "      <td>ee.Image({\\n  \"functionInvocationValue\": {\\n  ...</td>\n",
       "      <td>ee.Image({\\n  \"functionInvocationValue\": {\\n  ...</td>\n",
       "    </tr>\n",
       "    <tr>\n",
       "      <th>2020</th>\n",
       "      <td>0.702197</td>\n",
       "      <td>0.703132</td>\n",
       "      <td>ee.Image({\\n  \"functionInvocationValue\": {\\n  ...</td>\n",
       "      <td>ee.Image({\\n  \"functionInvocationValue\": {\\n  ...</td>\n",
       "      <td>ee.Image({\\n  \"functionInvocationValue\": {\\n  ...</td>\n",
       "    </tr>\n",
       "    <tr>\n",
       "      <th>2021</th>\n",
       "      <td>0.655374</td>\n",
       "      <td>0.660780</td>\n",
       "      <td>ee.Image({\\n  \"functionInvocationValue\": {\\n  ...</td>\n",
       "      <td>ee.Image({\\n  \"functionInvocationValue\": {\\n  ...</td>\n",
       "      <td>ee.Image({\\n  \"functionInvocationValue\": {\\n  ...</td>\n",
       "    </tr>\n",
       "    <tr>\n",
       "      <th>2022</th>\n",
       "      <td>0.629308</td>\n",
       "      <td>0.629297</td>\n",
       "      <td>ee.Image({\\n  \"functionInvocationValue\": {\\n  ...</td>\n",
       "      <td>ee.Image({\\n  \"functionInvocationValue\": {\\n  ...</td>\n",
       "      <td>ee.Image({\\n  \"functionInvocationValue\": {\\n  ...</td>\n",
       "    </tr>\n",
       "    <tr>\n",
       "      <th>2023</th>\n",
       "      <td>0.681938</td>\n",
       "      <td>0.680261</td>\n",
       "      <td>ee.Image({\\n  \"functionInvocationValue\": {\\n  ...</td>\n",
       "      <td>ee.Image({\\n  \"functionInvocationValue\": {\\n  ...</td>\n",
       "      <td>ee.Image({\\n  \"functionInvocationValue\": {\\n  ...</td>\n",
       "    </tr>\n",
       "    <tr>\n",
       "      <th>2024</th>\n",
       "      <td>0.620735</td>\n",
       "      <td>0.629705</td>\n",
       "      <td>ee.Image({\\n  \"functionInvocationValue\": {\\n  ...</td>\n",
       "      <td>ee.Image({\\n  \"functionInvocationValue\": {\\n  ...</td>\n",
       "      <td>ee.Image({\\n  \"functionInvocationValue\": {\\n  ...</td>\n",
       "    </tr>\n",
       "  </tbody>\n",
       "</table>\n",
       "</div>"
      ],
      "text/plain": [
       "      Area_NDVI  Buffer_NDVI  \\\n",
       "Year                           \n",
       "2016   0.708851     0.709488   \n",
       "2017   0.700180     0.699647   \n",
       "2018   0.720925     0.721418   \n",
       "2019   0.635198     0.635114   \n",
       "2020   0.702197     0.703132   \n",
       "2021   0.655374     0.660780   \n",
       "2022   0.629308     0.629297   \n",
       "2023   0.681938     0.680261   \n",
       "2024   0.620735     0.629705   \n",
       "\n",
       "                                       Area of Interest  \\\n",
       "Year                                                      \n",
       "2016  ee.Image({\\n  \"functionInvocationValue\": {\\n  ...   \n",
       "2017  ee.Image({\\n  \"functionInvocationValue\": {\\n  ...   \n",
       "2018  ee.Image({\\n  \"functionInvocationValue\": {\\n  ...   \n",
       "2019  ee.Image({\\n  \"functionInvocationValue\": {\\n  ...   \n",
       "2020  ee.Image({\\n  \"functionInvocationValue\": {\\n  ...   \n",
       "2021  ee.Image({\\n  \"functionInvocationValue\": {\\n  ...   \n",
       "2022  ee.Image({\\n  \"functionInvocationValue\": {\\n  ...   \n",
       "2023  ee.Image({\\n  \"functionInvocationValue\": {\\n  ...   \n",
       "2024  ee.Image({\\n  \"functionInvocationValue\": {\\n  ...   \n",
       "\n",
       "                                            Buffer only  \\\n",
       "Year                                                      \n",
       "2016  ee.Image({\\n  \"functionInvocationValue\": {\\n  ...   \n",
       "2017  ee.Image({\\n  \"functionInvocationValue\": {\\n  ...   \n",
       "2018  ee.Image({\\n  \"functionInvocationValue\": {\\n  ...   \n",
       "2019  ee.Image({\\n  \"functionInvocationValue\": {\\n  ...   \n",
       "2020  ee.Image({\\n  \"functionInvocationValue\": {\\n  ...   \n",
       "2021  ee.Image({\\n  \"functionInvocationValue\": {\\n  ...   \n",
       "2022  ee.Image({\\n  \"functionInvocationValue\": {\\n  ...   \n",
       "2023  ee.Image({\\n  \"functionInvocationValue\": {\\n  ...   \n",
       "2024  ee.Image({\\n  \"functionInvocationValue\": {\\n  ...   \n",
       "\n",
       "                                             Total Area  \n",
       "Year                                                     \n",
       "2016  ee.Image({\\n  \"functionInvocationValue\": {\\n  ...  \n",
       "2017  ee.Image({\\n  \"functionInvocationValue\": {\\n  ...  \n",
       "2018  ee.Image({\\n  \"functionInvocationValue\": {\\n  ...  \n",
       "2019  ee.Image({\\n  \"functionInvocationValue\": {\\n  ...  \n",
       "2020  ee.Image({\\n  \"functionInvocationValue\": {\\n  ...  \n",
       "2021  ee.Image({\\n  \"functionInvocationValue\": {\\n  ...  \n",
       "2022  ee.Image({\\n  \"functionInvocationValue\": {\\n  ...  \n",
       "2023  ee.Image({\\n  \"functionInvocationValue\": {\\n  ...  \n",
       "2024  ee.Image({\\n  \"functionInvocationValue\": {\\n  ...  "
      ]
     },
     "execution_count": 62,
     "metadata": {},
     "output_type": "execute_result"
    }
   ],
   "source": [
    "pacaas_hist.index = pacaas_hist['Year']\n",
    "pacaas_hist.drop(columns = 'Year')"
   ]
  },
  {
   "cell_type": "code",
   "execution_count": 63,
   "metadata": {},
   "outputs": [
    {
     "data": {
      "text/html": [
       "\n",
       "            <style>\n",
       "                .geemap-dark {\n",
       "                    --jp-widgets-color: white;\n",
       "                    --jp-widgets-label-color: white;\n",
       "                    --jp-ui-font-color1: white;\n",
       "                    --jp-layout-color2: #454545;\n",
       "                    background-color: #383838;\n",
       "                }\n",
       "\n",
       "                .geemap-dark .jupyter-button {\n",
       "                    --jp-layout-color3: #383838;\n",
       "                }\n",
       "\n",
       "                .geemap-colab {\n",
       "                    background-color: var(--colab-primary-surface-color, white);\n",
       "                }\n",
       "\n",
       "                .geemap-colab .jupyter-button {\n",
       "                    --jp-layout-color3: var(--colab-primary-surface-color, white);\n",
       "                }\n",
       "            </style>\n",
       "            "
      ],
      "text/plain": [
       "<IPython.core.display.HTML object>"
      ]
     },
     "metadata": {},
     "output_type": "display_data"
    },
    {
     "data": {
      "application/vnd.jupyter.widget-view+json": {
       "model_id": "ed24e700efc44ac08a9cf0726dcd2d80",
       "version_major": 2,
       "version_minor": 0
      },
      "text/plain": [
       "Map(center=[-11.3, -65], controls=(WidgetControl(options=['position', 'transparent_bg'], widget=SearchDataGUI(…"
      ]
     },
     "execution_count": 63,
     "metadata": {},
     "output_type": "execute_result"
    }
   ],
   "source": [
    "ndvi_2024 = pacaas_hist['Total Area'].loc[2024]\n",
    "ndvi_2016 = pacaas_hist['Total Area'].loc[2016]\n",
    "\n",
    "palette = ['red', 'orange', 'yellow', 'lightgreen', 'darkgreen']\n",
    "mapa = geemap.Map()\n",
    "mapa.set_center(-65, -11.3, 9)\n",
    "mapa.addLayer(ndvi_2024.subtract(ndvi_2016), {'min': -0.5, 'max': 0.5, 'palette': palette}, 'NDVI Difference')\n",
    "mapa"
   ]
  },
  {
   "cell_type": "markdown",
   "metadata": {},
   "source": [
    "**Extract delta of change based on the NDVI difference between the 2016 and 2024**"
   ]
  },
  {
   "cell_type": "code",
   "execution_count": 64,
   "metadata": {},
   "outputs": [
    {
     "data": {
      "text/html": [
       "\n",
       "            <style>\n",
       "                .geemap-dark {\n",
       "                    --jp-widgets-color: white;\n",
       "                    --jp-widgets-label-color: white;\n",
       "                    --jp-ui-font-color1: white;\n",
       "                    --jp-layout-color2: #454545;\n",
       "                    background-color: #383838;\n",
       "                }\n",
       "\n",
       "                .geemap-dark .jupyter-button {\n",
       "                    --jp-layout-color3: #383838;\n",
       "                }\n",
       "\n",
       "                .geemap-colab {\n",
       "                    background-color: var(--colab-primary-surface-color, white);\n",
       "                }\n",
       "\n",
       "                .geemap-colab .jupyter-button {\n",
       "                    --jp-layout-color3: var(--colab-primary-surface-color, white);\n",
       "                }\n",
       "            </style>\n",
       "            "
      ],
      "text/plain": [
       "<IPython.core.display.HTML object>"
      ]
     },
     "metadata": {},
     "output_type": "display_data"
    }
   ],
   "source": [
    "def mask_region(ndvi_difference):\n",
    "    significant_increase = ndvi_difference.gt(0.2)\n",
    "    moderate_increase = ndvi_difference.gt(0.1).And(ndvi_difference.lte(0.2))\n",
    "    stable = ndvi_difference.gt(-0.1).And(ndvi_difference.lt(0.1))\n",
    "    moderate_decrease = ndvi_difference.gt(-0.2).And(ndvi_difference.lte(-0.1))\n",
    "    significant_decrease = ndvi_difference.lte(-0.2)\n",
    "    return significant_increase, moderate_increase, stable, moderate_decrease, significant_decrease"
   ]
  },
  {
   "cell_type": "markdown",
   "metadata": {},
   "source": [
    "**Calculate the pixel area, to be converted to m² or hectares**"
   ]
  },
  {
   "cell_type": "code",
   "execution_count": 68,
   "metadata": {},
   "outputs": [
    {
     "data": {
      "text/html": [
       "\n",
       "            <style>\n",
       "                .geemap-dark {\n",
       "                    --jp-widgets-color: white;\n",
       "                    --jp-widgets-label-color: white;\n",
       "                    --jp-ui-font-color1: white;\n",
       "                    --jp-layout-color2: #454545;\n",
       "                    background-color: #383838;\n",
       "                }\n",
       "\n",
       "                .geemap-dark .jupyter-button {\n",
       "                    --jp-layout-color3: #383838;\n",
       "                }\n",
       "\n",
       "                .geemap-colab {\n",
       "                    background-color: var(--colab-primary-surface-color, white);\n",
       "                }\n",
       "\n",
       "                .geemap-colab .jupyter-button {\n",
       "                    --jp-layout-color3: var(--colab-primary-surface-color, white);\n",
       "                }\n",
       "            </style>\n",
       "            "
      ],
      "text/plain": [
       "<IPython.core.display.HTML object>"
      ]
     },
     "metadata": {},
     "output_type": "display_data"
    }
   ],
   "source": [
    "def calculate_area(area):\n",
    "    pixel_area = ee.Image.pixelArea()\n",
    "    return area.multiply(pixel_area)"
   ]
  },
  {
   "cell_type": "code",
   "execution_count": 73,
   "metadata": {},
   "outputs": [
    {
     "data": {
      "text/html": [
       "\n",
       "            <style>\n",
       "                .geemap-dark {\n",
       "                    --jp-widgets-color: white;\n",
       "                    --jp-widgets-label-color: white;\n",
       "                    --jp-ui-font-color1: white;\n",
       "                    --jp-layout-color2: #454545;\n",
       "                    background-color: #383838;\n",
       "                }\n",
       "\n",
       "                .geemap-dark .jupyter-button {\n",
       "                    --jp-layout-color3: #383838;\n",
       "                }\n",
       "\n",
       "                .geemap-colab {\n",
       "                    background-color: var(--colab-primary-surface-color, white);\n",
       "                }\n",
       "\n",
       "                .geemap-colab .jupyter-button {\n",
       "                    --jp-layout-color3: var(--colab-primary-surface-color, white);\n",
       "                }\n",
       "            </style>\n",
       "            "
      ],
      "text/plain": [
       "<IPython.core.display.HTML object>"
      ]
     },
     "metadata": {},
     "output_type": "display_data"
    },
    {
     "data": {
      "text/html": [
       "<div>\n",
       "<style scoped>\n",
       "    .dataframe tbody tr th:only-of-type {\n",
       "        vertical-align: middle;\n",
       "    }\n",
       "\n",
       "    .dataframe tbody tr th {\n",
       "        vertical-align: top;\n",
       "    }\n",
       "\n",
       "    .dataframe thead th {\n",
       "        text-align: right;\n",
       "    }\n",
       "</style>\n",
       "<table border=\"1\" class=\"dataframe\">\n",
       "  <thead>\n",
       "    <tr style=\"text-align: right;\">\n",
       "      <th></th>\n",
       "      <th>Year</th>\n",
       "      <th>Area_NDVI</th>\n",
       "      <th>Buffer_NDVI</th>\n",
       "      <th>Area of Interest</th>\n",
       "      <th>Buffer only</th>\n",
       "      <th>Total Area</th>\n",
       "      <th>Total Area in pixels</th>\n",
       "    </tr>\n",
       "    <tr>\n",
       "      <th>Year</th>\n",
       "      <th></th>\n",
       "      <th></th>\n",
       "      <th></th>\n",
       "      <th></th>\n",
       "      <th></th>\n",
       "      <th></th>\n",
       "      <th></th>\n",
       "    </tr>\n",
       "  </thead>\n",
       "  <tbody>\n",
       "    <tr>\n",
       "      <th>2016</th>\n",
       "      <td>2016</td>\n",
       "      <td>0.708851</td>\n",
       "      <td>0.709488</td>\n",
       "      <td>ee.Image({\\n  \"functionInvocationValue\": {\\n  ...</td>\n",
       "      <td>ee.Image({\\n  \"functionInvocationValue\": {\\n  ...</td>\n",
       "      <td>ee.Image({\\n  \"functionInvocationValue\": {\\n  ...</td>\n",
       "      <td>NaN</td>\n",
       "    </tr>\n",
       "    <tr>\n",
       "      <th>2017</th>\n",
       "      <td>2017</td>\n",
       "      <td>0.700180</td>\n",
       "      <td>0.699647</td>\n",
       "      <td>ee.Image({\\n  \"functionInvocationValue\": {\\n  ...</td>\n",
       "      <td>ee.Image({\\n  \"functionInvocationValue\": {\\n  ...</td>\n",
       "      <td>ee.Image({\\n  \"functionInvocationValue\": {\\n  ...</td>\n",
       "      <td>NaN</td>\n",
       "    </tr>\n",
       "    <tr>\n",
       "      <th>2018</th>\n",
       "      <td>2018</td>\n",
       "      <td>0.720925</td>\n",
       "      <td>0.721418</td>\n",
       "      <td>ee.Image({\\n  \"functionInvocationValue\": {\\n  ...</td>\n",
       "      <td>ee.Image({\\n  \"functionInvocationValue\": {\\n  ...</td>\n",
       "      <td>ee.Image({\\n  \"functionInvocationValue\": {\\n  ...</td>\n",
       "      <td>NaN</td>\n",
       "    </tr>\n",
       "    <tr>\n",
       "      <th>2019</th>\n",
       "      <td>2019</td>\n",
       "      <td>0.635198</td>\n",
       "      <td>0.635114</td>\n",
       "      <td>ee.Image({\\n  \"functionInvocationValue\": {\\n  ...</td>\n",
       "      <td>ee.Image({\\n  \"functionInvocationValue\": {\\n  ...</td>\n",
       "      <td>ee.Image({\\n  \"functionInvocationValue\": {\\n  ...</td>\n",
       "      <td>NaN</td>\n",
       "    </tr>\n",
       "    <tr>\n",
       "      <th>2020</th>\n",
       "      <td>2020</td>\n",
       "      <td>0.702197</td>\n",
       "      <td>0.703132</td>\n",
       "      <td>ee.Image({\\n  \"functionInvocationValue\": {\\n  ...</td>\n",
       "      <td>ee.Image({\\n  \"functionInvocationValue\": {\\n  ...</td>\n",
       "      <td>ee.Image({\\n  \"functionInvocationValue\": {\\n  ...</td>\n",
       "      <td>NaN</td>\n",
       "    </tr>\n",
       "    <tr>\n",
       "      <th>2021</th>\n",
       "      <td>2021</td>\n",
       "      <td>0.655374</td>\n",
       "      <td>0.660780</td>\n",
       "      <td>ee.Image({\\n  \"functionInvocationValue\": {\\n  ...</td>\n",
       "      <td>ee.Image({\\n  \"functionInvocationValue\": {\\n  ...</td>\n",
       "      <td>ee.Image({\\n  \"functionInvocationValue\": {\\n  ...</td>\n",
       "      <td>NaN</td>\n",
       "    </tr>\n",
       "    <tr>\n",
       "      <th>2022</th>\n",
       "      <td>2022</td>\n",
       "      <td>0.629308</td>\n",
       "      <td>0.629297</td>\n",
       "      <td>ee.Image({\\n  \"functionInvocationValue\": {\\n  ...</td>\n",
       "      <td>ee.Image({\\n  \"functionInvocationValue\": {\\n  ...</td>\n",
       "      <td>ee.Image({\\n  \"functionInvocationValue\": {\\n  ...</td>\n",
       "      <td>NaN</td>\n",
       "    </tr>\n",
       "    <tr>\n",
       "      <th>2023</th>\n",
       "      <td>2023</td>\n",
       "      <td>0.681938</td>\n",
       "      <td>0.680261</td>\n",
       "      <td>ee.Image({\\n  \"functionInvocationValue\": {\\n  ...</td>\n",
       "      <td>ee.Image({\\n  \"functionInvocationValue\": {\\n  ...</td>\n",
       "      <td>ee.Image({\\n  \"functionInvocationValue\": {\\n  ...</td>\n",
       "      <td>NaN</td>\n",
       "    </tr>\n",
       "    <tr>\n",
       "      <th>2024</th>\n",
       "      <td>2024</td>\n",
       "      <td>0.620735</td>\n",
       "      <td>0.629705</td>\n",
       "      <td>ee.Image({\\n  \"functionInvocationValue\": {\\n  ...</td>\n",
       "      <td>ee.Image({\\n  \"functionInvocationValue\": {\\n  ...</td>\n",
       "      <td>ee.Image({\\n  \"functionInvocationValue\": {\\n  ...</td>\n",
       "      <td>NaN</td>\n",
       "    </tr>\n",
       "  </tbody>\n",
       "</table>\n",
       "</div>"
      ],
      "text/plain": [
       "      Year  Area_NDVI  Buffer_NDVI  \\\n",
       "Year                                 \n",
       "2016  2016   0.708851     0.709488   \n",
       "2017  2017   0.700180     0.699647   \n",
       "2018  2018   0.720925     0.721418   \n",
       "2019  2019   0.635198     0.635114   \n",
       "2020  2020   0.702197     0.703132   \n",
       "2021  2021   0.655374     0.660780   \n",
       "2022  2022   0.629308     0.629297   \n",
       "2023  2023   0.681938     0.680261   \n",
       "2024  2024   0.620735     0.629705   \n",
       "\n",
       "                                       Area of Interest  \\\n",
       "Year                                                      \n",
       "2016  ee.Image({\\n  \"functionInvocationValue\": {\\n  ...   \n",
       "2017  ee.Image({\\n  \"functionInvocationValue\": {\\n  ...   \n",
       "2018  ee.Image({\\n  \"functionInvocationValue\": {\\n  ...   \n",
       "2019  ee.Image({\\n  \"functionInvocationValue\": {\\n  ...   \n",
       "2020  ee.Image({\\n  \"functionInvocationValue\": {\\n  ...   \n",
       "2021  ee.Image({\\n  \"functionInvocationValue\": {\\n  ...   \n",
       "2022  ee.Image({\\n  \"functionInvocationValue\": {\\n  ...   \n",
       "2023  ee.Image({\\n  \"functionInvocationValue\": {\\n  ...   \n",
       "2024  ee.Image({\\n  \"functionInvocationValue\": {\\n  ...   \n",
       "\n",
       "                                            Buffer only  \\\n",
       "Year                                                      \n",
       "2016  ee.Image({\\n  \"functionInvocationValue\": {\\n  ...   \n",
       "2017  ee.Image({\\n  \"functionInvocationValue\": {\\n  ...   \n",
       "2018  ee.Image({\\n  \"functionInvocationValue\": {\\n  ...   \n",
       "2019  ee.Image({\\n  \"functionInvocationValue\": {\\n  ...   \n",
       "2020  ee.Image({\\n  \"functionInvocationValue\": {\\n  ...   \n",
       "2021  ee.Image({\\n  \"functionInvocationValue\": {\\n  ...   \n",
       "2022  ee.Image({\\n  \"functionInvocationValue\": {\\n  ...   \n",
       "2023  ee.Image({\\n  \"functionInvocationValue\": {\\n  ...   \n",
       "2024  ee.Image({\\n  \"functionInvocationValue\": {\\n  ...   \n",
       "\n",
       "                                             Total Area Total Area in pixels  \n",
       "Year                                                                          \n",
       "2016  ee.Image({\\n  \"functionInvocationValue\": {\\n  ...                  NaN  \n",
       "2017  ee.Image({\\n  \"functionInvocationValue\": {\\n  ...                  NaN  \n",
       "2018  ee.Image({\\n  \"functionInvocationValue\": {\\n  ...                  NaN  \n",
       "2019  ee.Image({\\n  \"functionInvocationValue\": {\\n  ...                  NaN  \n",
       "2020  ee.Image({\\n  \"functionInvocationValue\": {\\n  ...                  NaN  \n",
       "2021  ee.Image({\\n  \"functionInvocationValue\": {\\n  ...                  NaN  \n",
       "2022  ee.Image({\\n  \"functionInvocationValue\": {\\n  ...                  NaN  \n",
       "2023  ee.Image({\\n  \"functionInvocationValue\": {\\n  ...                  NaN  \n",
       "2024  ee.Image({\\n  \"functionInvocationValue\": {\\n  ...                  NaN  "
      ]
     },
     "execution_count": 73,
     "metadata": {},
     "output_type": "execute_result"
    }
   ],
   "source": [
    "pacaas_hist"
   ]
  }
 ],
 "metadata": {
  "kernelspec": {
   "display_name": "pacaas_novas",
   "language": "python",
   "name": "python3"
  },
  "language_info": {
   "codemirror_mode": {
    "name": "ipython",
    "version": 3
   },
   "file_extension": ".py",
   "mimetype": "text/x-python",
   "name": "python",
   "nbconvert_exporter": "python",
   "pygments_lexer": "ipython3",
   "version": "3.13.1"
  }
 },
 "nbformat": 4,
 "nbformat_minor": 2
}
